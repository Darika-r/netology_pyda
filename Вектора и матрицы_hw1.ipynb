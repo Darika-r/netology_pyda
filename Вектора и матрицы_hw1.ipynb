{
 "cells": [
  {
   "cell_type": "markdown",
   "metadata": {},
   "source": [
    "Домашняя работа №1"
   ]
  },
  {
   "cell_type": "code",
   "execution_count": 2,
   "metadata": {},
   "outputs": [],
   "source": [
    "import numpy as np\n",
    "from matplotlib import pyplot as plt"
   ]
  },
  {
   "cell_type": "markdown",
   "metadata": {},
   "source": [
    "Задание 1\n",
    "Изобразите с помощью matplotlib. Изобразите точку x + 2y + 3z. Найдите угол между векторами x, y и x, z."
   ]
  },
  {
   "cell_type": "code",
   "execution_count": 8,
   "metadata": {},
   "outputs": [],
   "source": [
    "x = np.array([1,1])\n",
    "y = np.array([2, 0])\n",
    "z = np.array([0,2])"
   ]
  },
  {
   "cell_type": "code",
   "execution_count": 20,
   "metadata": {},
   "outputs": [
    {
     "data": {
      "text/plain": [
       "Text(0.5, 1.0, 'Построение векторов')"
      ]
     },
     "execution_count": 20,
     "metadata": {},
     "output_type": "execute_result"
    },
    {
     "data": {
      "image/png": "[encoded data removed]",
      "text/plain": [
       "<Figure size 432x288 with 1 Axes>"
      ]
     },
     "metadata": {
      "needs_background": "light"
     },
     "output_type": "display_data"
    }
   ],
   "source": [
    "ax = plt.axes()\n",
    "ax.arrow(0, 0, *x, head_width=0.1, head_length=0.1)\n",
    "ax.arrow(0,0, *y, head_width=0.1, head_length=0.1)\n",
    "ax.arrow(0,0,*z, head_width=0.1, head_length=0.1)\n",
    "plt.ylim(-1,3)\n",
    "plt.xlim(-1,3)\n",
    "plt.title('Построение векторов')"
   ]
  },
  {
   "cell_type": "code",
   "execution_count": 15,
   "metadata": {},
   "outputs": [
    {
     "name": "stdout",
     "output_type": "stream",
     "text": [
      "[5 7]\n"
     ]
    },
    {
     "data": {
      "text/plain": [
       "Text(0.5, 1.0, 'Построение точки x+2y+3z')"
      ]
     },
     "execution_count": 15,
     "metadata": {},
     "output_type": "execute_result"
    },
    {
     "data": {
      "image/png": "[encoded data removed]",
      "text/plain": [
       "<Figure size 432x288 with 1 Axes>"
      ]
     },
     "metadata": {
      "needs_background": "light"
     },
     "output_type": "display_data"
    }
   ],
   "source": [
    "a = x + 2 * y + 3 * z\n",
    "print(a)\n",
    "\n",
    "#plt.plot(a, marker='o', linestyle='') #построим точку\n",
    "#plt.show()\n",
    "ax = plt.axes()\n",
    "ax.arrow(0, 0, *x, head_width=0.05, head_length=0.1)\n",
    "ax.arrow(*x, *(2*y), head_width=0.05, head_length=0.1)\n",
    "ax.arrow(*(x+2*y),*(3*z), head_width=0.05, head_length=0.1)\n",
    "ax.arrow(0, 0, *a, head_width=0.05, head_length=0.1)\n",
    "plt.ylim(-1,8)\n",
    "plt.xlim(-1,6)\n",
    "plt.title('Построение точки x+2y+3z')"
   ]
  },
  {
   "cell_type": "code",
   "execution_count": 31,
   "metadata": {},
   "outputs": [
    {
     "data": {
      "text/plain": [
       "43.55880681005742"
      ]
     },
     "execution_count": 31,
     "metadata": {},
     "output_type": "execute_result"
    }
   ],
   "source": [
    "# для нахождения угла между векторами нужно найти длины векторов х,у и z соответственно\n",
    "x1 = np.linalg.norm(x)\n",
    "y1 = np.linalg.norm(y)\n",
    "z1 = np.linalg.norm(z)\n",
    "\n",
    "# находим угол между векторами\n",
    "np.degrees(np.cos(np.dot(x,y)/((x1*y1)))) #угол между векторами х и у\n",
    "np.degrees(np.cos(np.dot(x,z)/((x1*z1)))) #угол между векторами х и z\n",
    "# углы равны"
   ]
  },
  {
   "cell_type": "markdown",
   "metadata": {},
   "source": [
    "Задание 2\n",
    "Найдите собственные значения и собственные вектора матриц (необходимо решение на numpy и решение по алгоритму на бумажке). Для матрицы 3x3 можно посмотреть на корни характеристического многочлена, посчитанные в numpy."
   ]
  },
  {
   "cell_type": "code",
   "execution_count": 33,
   "metadata": {},
   "outputs": [],
   "source": [
    "m1 = np.array([[2, 2],\n",
    "               [1, 3]])\n",
    "\n",
    "m2 = np.array([[4, 1, -1],\n",
    "               [1, 4, -1],\n",
    "               [-1, -1, 4]])"
   ]
  },
  {
   "cell_type": "code",
   "execution_count": 34,
   "metadata": {},
   "outputs": [
    {
     "name": "stdout",
     "output_type": "stream",
     "text": [
      "Собственное значение 1.0\n",
      "соответствующий ему собственный вектор [-0.89442719  0.4472136 ]\n",
      "Собственное значение 4.0\n",
      "соответствующий ему собственный вектор [-0.70710678 -0.70710678]\n"
     ]
    }
   ],
   "source": [
    "w, v = np.linalg.eig(m1)\n",
    "for i in range(len(w)):\n",
    "    print(\"Собственное значение \" + str(w[i]))\n",
    "    print(\"соответствующий ему собственный вектор \" + str(v[:,i]))"
   ]
  },
  {
   "cell_type": "code",
   "execution_count": 29,
   "metadata": {},
   "outputs": [
    {
     "name": "stdout",
     "output_type": "stream",
     "text": [
      "Собственное значение 5.999999999999998\n",
      "соответствующий ему собственный вектор [-0.57735027 -0.57735027  0.57735027]\n",
      "Собственное значение 2.9999999999999982\n",
      "соответствующий ему собственный вектор [-0.81649658  0.40824829 -0.40824829]\n",
      "Собственное значение 2.9999999999999996\n",
      "соответствующий ему собственный вектор [0.15430335 0.6172134  0.77151675]\n"
     ]
    }
   ],
   "source": [
    "w, v = np.linalg.eig(m2)\n",
    "for i in range(len(w)):\n",
    "    print(\"Собственное значение \" + str(w[i]))\n",
    "    print(\"соответствующий ему собственный вектор \" + str(v[:,i]))"
   ]
  },
  {
   "cell_type": "markdown",
   "metadata": {},
   "source": [
    "Задание 3¶\n",
    "Найдите сингулярное разложение матрицы."
   ]
  },
  {
   "cell_type": "code",
   "execution_count": 3,
   "metadata": {},
   "outputs": [],
   "source": [
    "\n",
    "m3 = np.array([[1, 2],\n",
    "               [2, 3]])"
   ]
  },
  {
   "cell_type": "code",
   "execution_count": 7,
   "metadata": {},
   "outputs": [
    {
     "name": "stdout",
     "output_type": "stream",
     "text": [
      "[[-0.52573111 -0.85065081]\n",
      " [-0.85065081  0.52573111]]\n",
      "[4.23606798 0.23606798]\n",
      "[[-0.52573111 -0.85065081]\n",
      " [ 0.85065081 -0.52573111]]\n"
     ]
    }
   ],
   "source": [
    "U, s, V = np.linalg.svd(m3)\n",
    "print(U)\n",
    "print(s)\n",
    "print(V)"
   ]
  }
 ],
 "metadata": {
  "kernelspec": {
   "display_name": "Python 3",
   "language": "python",
   "name": "python3"
  },
  "language_info": {
   "codemirror_mode": {
    "name": "ipython",
    "version": 3
   },
   "file_extension": ".py",
   "mimetype": "text/x-python",
   "name": "python",
   "nbconvert_exporter": "python",
   "pygments_lexer": "ipython3",
   "version": "3.7.3"
  }
 },
 "nbformat": 4,
 "nbformat_minor": 2
}
