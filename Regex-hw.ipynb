{
 "cells": [
  {
   "cell_type": "markdown",
   "metadata": {},
   "source": [
    "# Домашнее задание к лекции \"Регулярные выражения\"\n",
    "Для зачета необходимо выполнить 4 задания.  \n",
    "Для зачета с отличием – все."
   ]
  },
  {
   "cell_type": "markdown",
   "metadata": {},
   "source": [
    "## Задание 1"
   ]
  },
  {
   "cell_type": "markdown",
   "metadata": {},
   "source": [
    "Напишите функцию, которая принимает на вход строку и проверяет является ли она валидным транспортным номером. Если да, то функция должна возвращать отдельно номер и регион."
   ]
  },
  {
   "cell_type": "code",
   "execution_count": 1,
   "metadata": {},
   "outputs": [
    {
     "name": "stdout",
     "output_type": "stream",
     "text": [
      "П567ЫВ 888\n",
      "('П567ЫВ', '888')\n"
     ]
    }
   ],
   "source": [
    "import re\n",
    "\n",
    "def number():\n",
    "    transport = str(input())\n",
    "    regexp_trans = '[А-Я]{1}[0-9]{3}[А-ЯПegexp_trans, transport):\n",
    "            #return transport\n",
    "            return transport.strip(' ').split(' ')[0], transport.strip(' ').split(' ')[1]\n",
    "        else:\n",
    "            return 'The number {} is invalid'.format(transport)\n",
    "print(number())\n",
    "#A456DE 888"
   ]
  },
  {
   "cell_type": "markdown",
   "metadata": {},
   "source": [
    "## Задание 2"
   ]
  },
  {
   "cell_type": "markdown",
   "metadata": {},
   "source": [
    "Напишите функцию, которая проверяет e-mail адрес на валидность по стандарту RFC822: http://www.w3.org/Protocols/rfc822/. Для этого постарайтесь написать (в крайнем случае найти) самый полный шаблон для проверки e-mail адресов через регулярное выражение. Разберитесь и напишите примеры, какие ваш шаблон может не охватить."
   ]
  },
  {
   "cell_type": "code",
   "execution_count": 37,
   "metadata": {
    "scrolled": true
   },
   "outputs": [
    {
     "name": "stdout",
     "output_type": "stream",
     "text": [
      "!#mary-=@msca.net\n",
      "email !#mary-=@msca.net невалидный\n"
     ]
    }
   ],
   "source": [
    "def email_check():\n",
    "    email = input()\n",
    "    reg_email = '([a-zA-Z0-9_\\.-]+)(@)([a-z0-9-\\.]+)(\\.)([a-z]{1,3})'\n",
    "    if re.search(reg_email, email):\n",
    "        print(f'email {email} валидный')\n",
    "    else:\n",
    "        print(f'email {email} невалидный')\n",
    "email_check()"
   ]
  },
  {
   "cell_type": "markdown",
   "metadata": {},
   "source": [
    "\n",
    "Шаблон не охватывает случаи:\n",
    "\n",
    "когда в имени пользователя встречаются символы, отличные от букв, цифр, _, - и .\n",
    "когда в доменном имени будут идти подряд несколько . или несколько -\n",
    "когда доменное имя превысит допустимые 63 символа"
   ]
  },
  {
   "cell_type": "markdown",
   "metadata": {},
   "source": [
    "## Задание 3\n",
    "Напишите функцию, которая будет удалять все последовательные повторы слов из заданной строки."
   ]
  },
  {
   "cell_type": "code",
   "execution_count": 72,
   "metadata": {},
   "outputs": [
    {
     "data": {
      "text/plain": [
       "'Что такое регулярные выражения и как их использовать Говоря простым языком регулярное выражение это последовательность символов используемая для поиска и замены текста в строке или файле Как уже было упомянуто их поддерживает множество языков общего назначения Python Perl R Так что изучение регулярных выражений рано или поздно пригодится'"
      ]
     },
     "execution_count": 72,
     "metadata": {},
     "output_type": "execute_result"
    }
   ],
   "source": [
    "text = 'Что Что такое регулярные регулярные выражения и как их использовать?\\\n",
    "        Говоря простым языком, регулярное выражение — это последовательность символов,\\\n",
    "        используемая для поиска и замены текста в строке или файле. Как уже было упомянуто,\\\n",
    "        их поддерживает множество языков общего назначения: Python, Perl, R.\\\n",
    "        Так что изучение регулярных выражений рано или поздно пригодится.'\n",
    "first = re.findall('[\\w]+', text)[0]\n",
    "text_list = re.findall('[\\w]+', text)\n",
    "for el in text_list[1:]:\n",
    "    if el == first:\n",
    "        index_ = text_list.index(el)\n",
    "        del text_list[index_]    \n",
    "    first = el\n",
    "text = ' '.join(text_list)\n",
    "text"
   ]
  },
  {
   "cell_type": "markdown",
   "metadata": {},
   "source": [
    "## Задание 4\n",
    "Напишите функцию, которая будет проверять номер сотового телефона на валидность, если он валиден, то переводить его в формат:   \n",
    "+7(xxx)-xxx-xx-xx  \n",
    "Постарайтесь предусмотреть как можно больше адекватных форматов изначального ввода номера.\n",
    "Примеры правильных и неправильных форматов:\n",
    "- +7 955 555-55-55;\n",
    "- 955555555;\n",
    "- 8(955)555-55-55;\n",
    "- +7 955 555 55 55;\n",
    "- 7(955) 555-55-55;\n",
    "- +7 955+555+55+55."
   ]
  },
  {
   "cell_type": "code",
   "execution_count": 15,
   "metadata": {},
   "outputs": [
    {
     "name": "stdout",
     "output_type": "stream",
     "text": [
      "8(955)555-55-55\n",
      "Телефон верный +7(955)-555-55-55\n"
     ]
    }
   ],
   "source": [
    "import re\n",
    "\n",
    "def telephon():\n",
    "    tel = input()\n",
    "    regexp_tel  = r'(\\+?)(8|7)([\\s\\(]{0,2})(9\\d\\d)([\\s\\-)]{0,2})(\\d{3})([\\s\\-])(\\d{2})([\\s\\-])(\\d{2})'\n",
    "    if re.search(regexp_tel, tel):\n",
    "        print('Телефон верный', re.sub(r'(\\+?)(8|7)([\\s\\(]{0,2})(9\\d\\d)([\\s\\-)]{0,2})(\\d{3})([\\s\\-])(\\d{2})([\\s\\-])(\\d{2})', r'+7(\\4)-\\6-\\8-\\10', tel))\n",
    "    else:\n",
    "        print('Телефон неверный')\n",
    "telephon()"
   ]
  }
 ],
 "metadata": {
  "kernelspec": {
   "display_name": "Python 3",
   "language": "python",
   "name": "python3"
  },
  "language_info": {
   "codemirror_mode": {
    "name": "ipython",
    "version": 3
   },
   "file_extension": ".py",
   "mimetype": "text/x-python",
   "name": "python",
   "nbconvert_exporter": "python",
   "pygments_lexer": "ipython3",
   "version": "3.7.3"
  }
 },
 "nbformat": 4,
 "nbformat_minor": 2
}
