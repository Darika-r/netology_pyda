{
 "cells": [
  {
   "cell_type": "markdown",
   "metadata": {},
   "source": [
    "## Задание 1"
   ]
  },
  {
   "cell_type": "markdown",
   "metadata": {},
   "source": [
    "Дан список вида:"
   ]
  },
  {
   "cell_type": "code",
   "execution_count": 1,
   "metadata": {},
   "outputs": [],
   "source": [
    "data = [\n",
    "    [13, 25, 23, 34],\n",
    "    [45, 32, 44, 47],\n",
    "    [12, 33, 23, 95],\n",
    "    [13, 53, 34, 35]\n",
    "]"
   ]
  },
  {
   "cell_type": "markdown",
   "metadata": {},
   "source": [
    "Напишите функцию, которая возвращает сумму элементов на диагонали. Т. е. 13+32+23+35.  \n",
    "Список может быть любой длины, но всегда является \"квадратным\" (количество элементов во вложенных списках равно их количеству)."
   ]
  },
  {
   "cell_type": "code",
   "execution_count": 11,
   "metadata": {},
   "outputs": [
    {
     "name": "stdout",
     "output_type": "stream",
     "text": [
      "103\n"
     ]
    }
   ],
   "source": [
    "def sum_diagonal(x):\n",
    "    s = 0\n",
    "    for line in x:\n",
    "        for element in line:\n",
    "            if x.index(line) == line.index(element):\n",
    "                s+=element\n",
    "    print(s)\n",
    "sum_diagonal(data)"
   ]
  },
  {
   "cell_type": "markdown",
   "metadata": {},
   "source": [
    "## Задание 2"
   ]
  },
  {
   "cell_type": "markdown",
   "metadata": {},
   "source": [
    "Напишите функцию, возвращающую сумму первых n чисел Фибоначчи (для этого вам может понадобится ознакомиться с рекурсией)."
   ]
  },
  {
   "cell_type": "code",
   "execution_count": 1,
   "metadata": {},
   "outputs": [
    {
     "name": "stdout",
     "output_type": "stream",
     "text": [
      "Введите число 5\n"
     ]
    },
    {
     "data": {
      "text/plain": [
       "12"
      ]
     },
     "execution_count": 1,
     "metadata": {},
     "output_type": "execute_result"
    }
   ],
   "source": [
    "def fibonachi():\n",
    "    row = []\n",
    "    n = int(input('Введите число '))\n",
    "    first = 1\n",
    "    second = 1\n",
    "    row.append(first)\n",
    "    row.append(second)\n",
    "    for number in range(0,n - 2):\n",
    "        fird = first + second\n",
    "        first = second\n",
    "        second = fird \n",
    "        row.append(fird)\n",
    "    return row\n",
    "sum(fibonachi() ) "
   ]
  },
  {
   "cell_type": "markdown",
   "metadata": {},
   "source": [
    "## Задание 3\n"
   ]
  },
  {
   "cell_type": "markdown",
   "metadata": {},
   "source": [
    "Напишите функцию, преобразующую произвольный список вида ['2018-01-01', 'yandex', 'cpc', 100] (он может быть любой длины) в словарь {'2018-01-01': {'yandex': {'cpc': 100}}}"
   ]
  },
  {
   "cell_type": "code",
   "execution_count": 39,
   "metadata": {},
   "outputs": [
    {
     "data": {
      "text/plain": [
       "{'2018-01-01': {'yandex': {'cpc': 100}}}"
      ]
     },
     "execution_count": 39,
     "metadata": {},
     "output_type": "execute_result"
    }
   ],
   "source": [
    "z = ['2018-01-01', 'yandex', 'cpc', 100]\n",
    "def create_dict(a):\n",
    "    dict_ = dict.fromkeys([a[-2]],a[-1])\n",
    "    for i in range(len(a)-2,0,-1):\n",
    "        dict_sample = dict.fromkeys([a[i-1]],dict_)\n",
    "        dict_ = dict_sample \n",
    "        #break\n",
    "    return dict_sample\n",
    "create_dict(z)"
   ]
  },
  {
   "cell_type": "markdown",
   "metadata": {},
   "source": [
    "## Задание 4"
   ]
  },
  {
   "cell_type": "markdown",
   "metadata": {},
   "source": [
    "Вы работаете секретарем и вам постоянно приходят различные документы. Вы должны быть очень внимательны, чтобы не потерять ни один документ. Каталог документов хранится в следующем виде:"
   ]
  },
  {
   "cell_type": "code",
   "execution_count": 26,
   "metadata": {},
   "outputs": [],
   "source": [
    "documents = [\n",
    "    {'type': 'passport', 'number': '2207 876234', 'name': 'Василий Гупкин'},\n",
    "    {'type': 'invoice', 'number': '11-2', 'name': 'Геннадий Покемонов'},\n",
    "    {'type': 'insurance', 'number': '10006', 'name': 'Аристарх Павлов'}\n",
    "]"
   ]
  },
  {
   "cell_type": "markdown",
   "metadata": {},
   "source": [
    "Перечень полок, на которых находятся документы хранится в следующем виде:"
   ]
  },
  {
   "cell_type": "code",
   "execution_count": 27,
   "metadata": {},
   "outputs": [],
   "source": [
    "directories = {\n",
    "    '1': ['2207 876234', '11-2', '5455 028765'],\n",
    "    '2': ['10006', '5400 028765', '5455 002299'],\n",
    "    '3': []\n",
    "}"
   ]
  },
  {
   "cell_type": "code",
   "execution_count": 47,
   "metadata": {},
   "outputs": [
    {
     "name": "stdout",
     "output_type": "stream",
     "text": [
      "Enter command a\n",
      "Enter document number 5400 028765\n",
      "Enter document type safVDGBgd\n",
      "Enter shelf number 3\n",
      "Enter owner name sfgxjg\n",
      "Document is already on the that shelf\n"
     ]
    }
   ],
   "source": [
    "def doc_in_doc(doc_num, documents):\n",
    "    \n",
    "    \"\"\"\n",
    "    doc_in_documents – проверяет, есть ли указанный номер документа в каталоге документов и возвращает либо Имя человека, \n",
    "    либо False       \n",
    "    \"\"\"   \n",
    "    for element in documents:\n",
    "        if doc_num == element['number']:\n",
    "            return element['name']\n",
    "\n",
    "def doc_person_name():\n",
    "    \"\"\"\n",
    "    doc_person_name – выводит имя человека по номеру документа или пишет что такого документа нет\n",
    "    \"\"\"       \n",
    "    doc_num = input(\"Enter document number \")\n",
    "   \n",
    "    if doc_in_doc(doc_num, documents) is not None:\n",
    "        print(doc_in_doc(doc_num, documents))\n",
    "    else:\n",
    "        print(\"There is no such document number\")\n",
    "\n",
    "  # фукции поиска номера полки по номеру документа\n",
    "def number_of_shelf(directories, doc_num):\n",
    "    for k, v in directories.items():\n",
    "        if doc_num in v:\n",
    "            return k\n",
    "        \n",
    "def doc_shelf_num():\n",
    "    doc_num = input(\"Enter shelf number \")  \n",
    "    \n",
    "    if number_of_shelf(directories, doc_num) is not None:\n",
    "        print(number_of_shelf(directories, doc_num))\n",
    "    else:\n",
    "        print(\"There is no such documentnumber\")       \n",
    "\n",
    "# фукции выводит строки в заданном формате        \n",
    "def list_documents(documents):\n",
    "    \n",
    "    for el in documents:\n",
    "        a = []\n",
    "        for value in el.values():\n",
    "            #print(value, sep = ',')\n",
    "            a.append(value)\n",
    "        print(f\"{a[0]} \\\"{a[1]}\\\" \\\"{a[2]}\\\"\")        \n",
    "        \n",
    "# добавление новой полки\n",
    "def add_new_shelf():\n",
    "    a = 'Такая полка уже существует'\n",
    "    b = 'Новая полка добавлена'\n",
    "    new_shelf_num = input(\"Enter a new shelf number \")\n",
    "    \n",
    "    if new_shelf_num in directories:\n",
    "        return a\n",
    "    else:\n",
    "        directories[new_shelf_num] = []\n",
    "        return b\n",
    "    \n",
    "# удаление из каталога и перечня полок\n",
    "def deletion():\n",
    "    ph1 =  'Document was removed'\n",
    "    ph2 =  'There is no such document'\n",
    "    del_doc_num = input(\"Enter document number \")\n",
    "    for element in documents:\n",
    "        if del_doc_num == element['number']:\n",
    "            documents.remove(element)\n",
    "            \n",
    "            \n",
    "    for k, v in directories.items():\n",
    "        if del_doc_num in v:\n",
    "            v.remove(del_doc_num)\n",
    "            return ph1\n",
    "        else:\n",
    "            return ph2    \n",
    "#перемещение на другую полку\n",
    "def move(doc_num, shelf_num):\n",
    "\n",
    "    for k, v in directories.items():\n",
    "        if doc_num in v:\n",
    "            v.remove(doc_num)\n",
    "        if shelf_num == k:\n",
    "            v.append(doc_num)\n",
    "            \n",
    "def doc_move():\n",
    "    doc_num = input(\"Enter document number \")\n",
    "    shelf_num = input(\"Enter shelf number \")\n",
    "    \n",
    "    a = 'Номер документа не существует'\n",
    "    b = 'Номер полки не существует'\n",
    "    c = 'Документ перемещен на другую полку'\n",
    "    \n",
    "    fl = 0\n",
    "        \n",
    "    if shelf_num in directories:\n",
    "        for k, v in directories.items():\n",
    "            if doc_num in v:\n",
    "                move(doc_num, shelf_num)\n",
    "                fl = 1\n",
    "                \n",
    "        if fl != 1:\n",
    "            print(a) \n",
    "        else:\n",
    "            print(c)\n",
    "    else:\n",
    "        print(b)\n",
    "\n",
    "#добавление нового документа в каталог\n",
    "def add_doc():\n",
    "    doc_num = input(\"Enter document number \")\n",
    "    doc_type = input(\"Enter document type \")\n",
    "    shelf_num = input(\"Enter shelf number \")\n",
    "    owner_name = input(\"Enter owner name \")\n",
    "    \n",
    "    #documents.setdefault({'type': doc_type, 'number': doc_num, 'name': owner_name})     \n",
    "    for el in documents:\n",
    "        if el['type']!= doc_type and el['number'] != doc_num and el['name'] != owner_name:\n",
    "            fl = 1\n",
    "    \n",
    "    for k, v  in  directories.items():\n",
    "        if k == shelf_num and doc_num in v:\n",
    "            print('Document is already on the that shelf')\n",
    "        elif k != shelf_num and doc_num in v:    \n",
    "            v.remove(doc_num)\n",
    "            fl = 2\n",
    "        else:\n",
    "             fl = 2\n",
    "                \n",
    "    \n",
    "    if  shelf_num not in directories:\n",
    "        directories[shelf_num] = []\n",
    "        fl = 2 \n",
    "                \n",
    "    if fl == 2:\n",
    "        documents.append({'type': doc_type, 'number': doc_num, 'name': owner_name})\n",
    "        for k, v in directories.items():\n",
    "            if k == shelf_num:\n",
    "                v.append(doc_num)\n",
    "        \n",
    "    \n",
    "command = input(\"Enter command \")\n",
    "if command == 'p':\n",
    "    doc_person_name()\n",
    "elif command == 's':\n",
    "    doc_shelf_num()\n",
    "elif command == 'l':\n",
    "    list_documents(documents) \n",
    "elif command == 'as':\n",
    "    print(add_new_shelf())\n",
    "elif command == 'd':\n",
    "    print(deletion()) \n",
    "elif command == 'm':\n",
    "    doc_move()\n",
    "elif command == 'a':\n",
    "    add_doc()   \n",
    "else:\n",
    "    \n",
    "    print('Введите другую коменду')"
   ]
  },
  {
   "cell_type": "markdown",
   "metadata": {},
   "source": [
    "Необходимо реализовать пользовательские команды (внимание! это не название функций, которые должны быть выразительными, а команды, которые вводит пользователь, чтобы получить необходимый результат):\n",
    "  \n",
    "- p – people – команда, которая спросит номер документа и выведет имя человека, которому он принадлежит;  \n",
    "- s – shelf – команда, которая спросит номер документа и выведет номер полки, на которой он находится  \n",
    "Правильно обработайте ситуацию, когда пользователь будет вводить несуществующий документ.\n",
    "- l – list – команда, которая выведет список всех документов в формате   \n",
    "**passport \"2207 876234\" \"Василий Гупкин\"**  \n",
    "- as – add shelf – команда, которая спросит номер новой полки и добавит ее в перечень\n",
    "- d – delete – команда, которая спросит номер документа и удалит его из каталога и из перечня полок. Предусмотрите сценарий, когда пользователь вводит несуществующий документ;  \n",
    "- m – move – команда, которая спросит номер документа и целевую полку и переместит его с текущей полки на целевую. Корректно обработайте кейсы, когда пользователь пытается переместить несуществующий документ или переместить документ на несуществующую полку;  \n",
    "- a – add – команда, которая добавит новый документ в каталог и в перечень полок, спросив его номер, тип, имя владельца и номер полки, на котором он будет храниться."
   ]
  }
 ],
 "metadata": {
  "kernelspec": {
   "display_name": "Python 3",
   "language": "python",
   "name": "python3"
  },
  "language_info": {
   "codemirror_mode": {
    "name": "ipython",
    "version": 3
   },
   "file_extension": ".py",
   "mimetype": "text/x-python",
   "name": "python",
   "nbconvert_exporter": "python",
   "pygments_lexer": "ipython3",
   "version": "3.7.3"
  }
 },
 "nbformat": 4,
 "nbformat_minor": 2
}
