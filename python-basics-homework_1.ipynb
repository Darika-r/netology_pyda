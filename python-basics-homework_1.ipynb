{
 "cells": [
  {
   "cell_type": "markdown",
   "metadata": {},
   "source": [
    "**Задание 1**. Даны 2 строки: *long_phrase* и *short_phrase*. \n",
    "Напишите код, который проверяет действительно ли длинная фраза *long_phrase* длиннее короткой *short_phrase*. И выводит *True* или *False* в зависимости от результата сравнения."
   ]
  },
  {
   "cell_type": "code",
   "execution_count": 1,
   "metadata": {},
   "outputs": [],
   "source": [
    "long_phrase = 'Насколько проще было бы писать программы, если бы не заказчики'\n",
    "short_phrase = '640Кб должно хватить для любых задач. Билл Гейтс (по легенде)'"
   ]
  },
  {
   "cell_type": "code",
   "execution_count": 4,
   "metadata": {},
   "outputs": [
    {
     "name": "stdout",
     "output_type": "stream",
     "text": [
      "True\n"
     ]
    }
   ],
   "source": [
    "if len(short_phrase) < len(long_phrase):\n",
    "    print('True')\n",
    "else:\n",
    "    print('False')"
   ]
  },
  {
   "cell_type": "markdown",
   "metadata": {},
   "source": [
    "**Задание 2**. Дано значение объема файла в байтах. Напишите перевод этого значения в мегабайты в формате: \"*Объем файла равен 213.68Mb*\""
   ]
  },
  {
   "cell_type": "code",
   "execution_count": 14,
   "metadata": {},
   "outputs": [
    {
     "name": "stdout",
     "output_type": "stream",
     "text": [
      "Размер в байтах 10000000\n",
      "Объем файла равен 9.54Mb\n"
     ]
    }
   ],
   "source": [
    "bites = int(input(\"Размер в байтах \"))\n",
    "transform  = 2**20\n",
    "print('Объем файла равен ' + str(round(bites/transform,2)) + 'Mb') #"
   ]
  },
  {
   "cell_type": "markdown",
   "metadata": {},
   "source": [
    "**Задание 3**. Разработать приложение для определения знака зодиака по дате рождения. Пример:\n",
    "\n",
    "Введите месяц: март\n",
    "\n",
    "Введите число: 6\n",
    "\n",
    "Вывод:\n",
    "Рыбы"
   ]
  },
  {
   "cell_type": "code",
   "execution_count": 17,
   "metadata": {},
   "outputs": [
    {
     "name": "stdout",
     "output_type": "stream",
     "text": [
      "Введите месяц 7\n",
      "Введите число 21\n",
      "Cancer\n"
     ]
    }
   ],
   "source": [
    "month = int(input(\"Введите месяц \"))\n",
    "day = int(input(\"Введите число \"))\n",
    "if (month == 3 and day >= 21) or (month == 4 and day <= 20): \n",
    "    print('Aries')\n",
    "elif (month == 4 and day >= 21) or (month == 5 and day <= 21): \n",
    "    print('Taurus')\n",
    "elif (month == 5 and day >= 22) or (month == 6 and day <= 21): \n",
    "    print('Gemini')\n",
    "elif (month == 6 and day >= 22) or (month == 7 and day <= 22): \n",
    "    print('Cancer')    \n",
    "elif (month == 7 and day >= 23) or (month == 8 and day <= 22): \n",
    "    print('Leo')     \n",
    "elif (month == 8 and day >= 23) or (month == 9 and day <= 23): \n",
    "    print('Virgo')     \n",
    "elif (month == 9 and day >= 24) or (month == 10 and day <= 23): \n",
    "    print('Libra')     \n",
    "elif (month == 10 and day >= 24) or (month == 11 and day <= 22): \n",
    "    print('Scorpio')     \n",
    "elif (month == 11 and day >= 23) or (month == 12 and day <= 21): \n",
    "    print('Sagittarius')     \n",
    "elif (month == 12 and day >= 22) or (month == 1 and day <= 20): \n",
    "    print('Capricorn')     \n",
    "elif (month == 1 and day >= 21) or (month == 2 and day <= 19): \n",
    "    print('Aquarius')  \n",
    "elif (month == 2 and day >= 20) or (month == 3 and day <= 20): \n",
    "    print('Pisces') \n",
    "else: \n",
    "    print('Wrong Date') "
   ]
  },
  {
   "cell_type": "markdown",
   "metadata": {},
   "source": [
    "**Задание 4**. Нужно разработать приложение для финансового планирования.\n",
    "Приложение учитывает сколько уходит на ипотеку, \"на жизнь\" и сколько нужно отложить на пенсию.\n",
    "Пользователь вводит:\n",
    "- заработанную плату в месяц.\n",
    "- сколько процентов от ЗП уходит на ипотеку.\n",
    "- сколько процентов от ЗП уходит \"на жизнь\".\n",
    "- сколько раз приходит премия в год.\n",
    "\n",
    "Остальная часть заработанной платы откладывается на пенсию.\n",
    "\n",
    "Также пользователю приходит премия в размере зарплаты, от которой половина уходит на отпуск, а вторая половина откладывается.\n",
    "\n",
    "Программа должна учитывать сколько премий было в год.\n",
    "\n",
    "Нужно вывести сколько денег тратит пользователь на ипотеку и сколько он накопит за год.\n",
    "\n",
    "Пример:\n",
    "\n",
    "Введите заработанную плату в месяц: 100000\n",
    "\n",
    "Введите сколько процентов уходит на ипотеку: 30\n",
    "\n",
    "Введите сколько процентов уходит на жизнь: 50\n",
    "\n",
    "Введите количество премий за год: 2\n",
    "\n",
    "Вывод:\n",
    "На ипотеку было потрачено: 360000 рублей\n",
    "Было накоплено: 340000 рублей"
   ]
  },
  {
   "cell_type": "code",
   "execution_count": 28,
   "metadata": {},
   "outputs": [
    {
     "name": "stdout",
     "output_type": "stream",
     "text": [
      "Введите заработанную плату в месяц: 100000\n",
      "Введите сколько процентов уходит на ипотеку: 30\n",
      "Введите сколько процентов уходит на жизнь: 50\n",
      "Введите количество премий за год: 2\n",
      "На ипотеку было потрачено: 360000 рублей Было накоплено: 340000 рублей\n"
     ]
    }
   ],
   "source": [
    "salary = int(input(\"Введите заработанную плату в месяц: \"))\n",
    "mortgage = int(input(\"Введите сколько процентов уходит на ипотеку: \"))\n",
    "spent = int(input(\"Введите сколько процентов уходит на жизнь: \"))\n",
    "premium = int(input(\"Введите количество премий за год: \"))\n",
    "\n",
    "storage_month = salary - salary * mortgage / 100 - salary * spent / 100\n",
    "storage_year = storage_month * 12 + salary * premium / 2\n",
    "#print(int(salary * mortgage / 100 * 12))\n",
    "#print(storage_year)\n",
    "print('На ипотеку было потрачено: ' + str(int(salary * mortgage / 100 * 12)) + ' рублей Было накоплено: ' + str(int(storage_year)) + ' рублей')"
   ]
  },
  {
   "cell_type": "markdown",
   "metadata": {},
   "source": [
    "# Задание 1\n",
    "https://ru.wikipedia.org/wiki/Fizz_buzz\n",
    "Начинающий произносит число “1”, и каждый следующий игрок прибавляет к предыдущему значению единицу. Когда число делится на три оно заменяется на fizz, если число делится на пять, то произносится buzz. Числа, делящиеся на три и пять одновременно заменяются на fizz buzz. Сделавший ошибку игрок исключается из игры.\n",
    "\n",
    "Типичная партия в fizz buzz выглядит так:\n",
    "1, 2, Fizz, 4, Buzz, Fizz, 7, 8, Fizz, Buzz, 11, Fizz, 13, 14, Fizz Buzz, 16, 17, Fizz, 19, Buzz, Fizz, 22, 23, Fizz, Buzz, 26, Fizz, 28, 29, Fizz Buzz, 31, 32, Fizz, 34, Buzz, Fizz, …\n",
    "\n",
    "Напишите код, выводящий на экран первые n элементов этой игры (естественно, корректные)."
   ]
  },
  {
   "cell_type": "code",
   "execution_count": 41,
   "metadata": {},
   "outputs": [
    {
     "name": "stdout",
     "output_type": "stream",
     "text": [
      "Введите количество чисел: 18\n",
      "1, 2, fizz, 4, buzz, fizz, 7, 8, fizz, buzz, 11, fizz, 13, 14, fizz buzz, 16, 17, fizz, "
     ]
    }
   ],
   "source": [
    "n = int(input(\"Введите количество чисел: \"))\n",
    "start = 1\n",
    "for i in range(start, n+1):\n",
    "    if i%5 ==0 and i%3 ==0:\n",
    "        print('fizz buzz', end = \", \")\n",
    "    elif i%3 ==0:\n",
    "        print('fizz', end = \", \")\n",
    "    elif i%5 ==0:\n",
    "        print('buzz', end = \", \")\n",
    "    else:\n",
    "        print(i, end = \", \")"
   ]
  }
 ],
 "metadata": {
  "kernelspec": {
   "display_name": "Python 3",
   "language": "python",
   "name": "python3"
  },
  "language_info": {
   "codemirror_mode": {
    "name": "ipython",
    "version": 3
   },
   "file_extension": ".py",
   "mimetype": "text/x-python",
   "name": "python",
   "nbconvert_exporter": "python",
   "pygments_lexer": "ipython3",
   "version": "3.7.3"
  }
 },
 "nbformat": 4,
 "nbformat_minor": 2
}
